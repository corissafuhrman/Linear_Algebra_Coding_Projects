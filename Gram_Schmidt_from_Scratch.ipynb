{
  "nbformat": 4,
  "nbformat_minor": 0,
  "metadata": {
    "colab": {
      "provenance": [],
      "authorship_tag": "ABX9TyNX8xM2UNOkdQG35oIUGr+3",
      "include_colab_link": true
    },
    "kernelspec": {
      "name": "python3",
      "display_name": "Python 3"
    },
    "language_info": {
      "name": "python"
    }
  },
  "cells": [
    {
      "cell_type": "markdown",
      "metadata": {
        "id": "view-in-github",
        "colab_type": "text"
      },
      "source": [
        "<a href=\"https://colab.research.google.com/github/corissafuhrman/Linear_Algebra_Coding_Projects/blob/main/Gram_Schmidt_from_Scratch.ipynb\" target=\"_parent\"><img src=\"https://colab.research.google.com/assets/colab-badge.svg\" alt=\"Open In Colab\"/></a>"
      ]
    },
    {
      "cell_type": "code",
      "execution_count": 1,
      "metadata": {
        "id": "Kvi5163pMivH"
      },
      "outputs": [],
      "source": [
        "import matplotlib.pyplot as plt\n",
        "from sympy import Poly\n",
        "import sympy as sym\n",
        "import numpy as np\n",
        "from numpy import c_\n",
        "\n",
        "# We'll specify that x and t are variables:\n",
        "x, t = sym.symbols('x, t')\n",
        "\n",
        "ll = \"loaded\""
      ]
    },
    {
      "cell_type": "code",
      "source": [
        "#Create a vector\n",
        "r1 = np.matrix([[3], [0], [3], [0]])\n",
        "r1 = np.array([3, 0, 3, 0])\n",
        "r1"
      ],
      "metadata": {
        "colab": {
          "base_uri": "https://localhost:8080/"
        },
        "id": "opCkeFxqNh1A",
        "outputId": "f447dc7a-8372-4f1f-f0c7-65b35c1d43d4"
      },
      "execution_count": 6,
      "outputs": [
        {
          "output_type": "execute_result",
          "data": {
            "text/plain": [
              "array([3, 0, 3, 0])"
            ]
          },
          "metadata": {},
          "execution_count": 6
        }
      ]
    },
    {
      "cell_type": "code",
      "source": [
        "#Vector Arithmetic\n",
        "r1.dot(r1)"
      ],
      "metadata": {
        "colab": {
          "base_uri": "https://localhost:8080/"
        },
        "id": "t7Z4vHgAOVTJ",
        "outputId": "68905393-9a4e-494e-e69f-67dfebaacbf5"
      },
      "execution_count": 8,
      "outputs": [
        {
          "output_type": "execute_result",
          "data": {
            "text/plain": [
              "18"
            ]
          },
          "metadata": {},
          "execution_count": 8
        }
      ]
    },
    {
      "cell_type": "code",
      "source": [
        "#Vector Dot Products\n",
        "np.sqrt(9)"
      ],
      "metadata": {
        "colab": {
          "base_uri": "https://localhost:8080/"
        },
        "id": "r3fjhSokPabU",
        "outputId": "7e742705-f1bb-4ad3-f133-3a333bcf6c23"
      },
      "execution_count": 9,
      "outputs": [
        {
          "output_type": "execute_result",
          "data": {
            "text/plain": [
              "3.0"
            ]
          },
          "metadata": {},
          "execution_count": 9
        }
      ]
    },
    {
      "cell_type": "code",
      "source": [
        "#Magnitude of Vector\n",
        "np.sqrt(r1.dot(r1))"
      ],
      "metadata": {
        "colab": {
          "base_uri": "https://localhost:8080/"
        },
        "id": "BssIVoQlPt2U",
        "outputId": "8506be8d-153f-4242-fc2e-f14a2433975f"
      },
      "execution_count": 12,
      "outputs": [
        {
          "output_type": "execute_result",
          "data": {
            "text/plain": [
              "4.242640687119285"
            ]
          },
          "metadata": {},
          "execution_count": 12
        }
      ]
    },
    {
      "cell_type": "markdown",
      "source": [
        "#**Gram-Schmidt Orthonormalization Process**\n",
        "\n",
        "We'll use the Gram-Schmidt Process to find orthogonal vectoris in $R^4$"
      ],
      "metadata": {
        "id": "4hqpdw1xQIIE"
      }
    },
    {
      "cell_type": "markdown",
      "source": [
        "##Our \"Random\" Vectors:"
      ],
      "metadata": {
        "id": "KWJmrvNnQgYJ"
      }
    },
    {
      "cell_type": "code",
      "source": [
        "r1 = np.array([3, 0, 3, 0])\n",
        "r2 = np.array([3, 2, 3, 3])\n",
        "r3 = np.array([-7, -4, -5, -6])\n",
        "r4 = np.array([-7, -3, -11, 2])"
      ],
      "metadata": {
        "id": "mMuNPVPZQEHQ"
      },
      "execution_count": 16,
      "outputs": []
    },
    {
      "cell_type": "code",
      "source": [
        "print(\"r1 = \", r1)"
      ],
      "metadata": {
        "colab": {
          "base_uri": "https://localhost:8080/"
        },
        "id": "xqjAodZIQ6eW",
        "outputId": "11e9bedd-5095-4e6a-f5f2-bc663b88f65b"
      },
      "execution_count": 17,
      "outputs": [
        {
          "output_type": "stream",
          "name": "stdout",
          "text": [
            "r1 =  [3 0 3 0]\n"
          ]
        }
      ]
    },
    {
      "cell_type": "markdown",
      "source": [
        "## Process $r_1$"
      ],
      "metadata": {
        "id": "2Cj0huR3RQcf"
      }
    },
    {
      "cell_type": "code",
      "source": [
        "#Choose the vector and subtract off nice orthogonal pieces:\n",
        "t1 = r1\n",
        "#t1\n",
        "\n",
        "#Find the size of t1:\n",
        "m = np.sqrt(t1.dot(t1))\n",
        "\n",
        "#Create the nice orthonormal vector u1:\n",
        "u1 = (1/m) * t1\n",
        "u1"
      ],
      "metadata": {
        "colab": {
          "base_uri": "https://localhost:8080/"
        },
        "id": "fB1el61jRVDv",
        "outputId": "e0e794e1-af52-4ebc-b1e5-15619248207c"
      },
      "execution_count": 22,
      "outputs": [
        {
          "output_type": "execute_result",
          "data": {
            "text/plain": [
              "array([0.70710678, 0.        , 0.70710678, 0.        ])"
            ]
          },
          "metadata": {},
          "execution_count": 22
        }
      ]
    },
    {
      "cell_type": "code",
      "source": [
        "#Check answer\n",
        "np.sqrt(2)/2"
      ],
      "metadata": {
        "colab": {
          "base_uri": "https://localhost:8080/"
        },
        "id": "cskaHdgCRfy-",
        "outputId": "01ba5db9-36ba-4d39-9f26-0e72d0e1f86a"
      },
      "execution_count": 21,
      "outputs": [
        {
          "output_type": "execute_result",
          "data": {
            "text/plain": [
              "0.7071067811865476"
            ]
          },
          "metadata": {},
          "execution_count": 21
        }
      ]
    },
    {
      "cell_type": "code",
      "source": [
        "# Let's check magnitude and orthogonal:\n",
        "u1.dot(u1)"
      ],
      "metadata": {
        "colab": {
          "base_uri": "https://localhost:8080/"
        },
        "id": "dXEyCL_hVV7X",
        "outputId": "63e8aaa0-d1c0-4c0e-f564-2777a76c62e9"
      },
      "execution_count": 43,
      "outputs": [
        {
          "output_type": "execute_result",
          "data": {
            "text/plain": [
              "1.0000000000000002"
            ]
          },
          "metadata": {},
          "execution_count": 43
        }
      ]
    },
    {
      "cell_type": "markdown",
      "source": [
        "##Process $r_2$"
      ],
      "metadata": {
        "id": "O58HOdBmSe1y"
      }
    },
    {
      "cell_type": "code",
      "source": [
        "#Choose the vector and subtract off nice orthogonal pieces:\n",
        "t2 = r2 - (r2.dot(u1)) * u1\n",
        "#t2\n",
        "\n",
        "#Find the size of t2:\n",
        "m = np.sqrt(t2.dot(t2))\n",
        "m\n",
        "\n",
        "#Create the nice orthonormal vector u1:\n",
        "u2 = (1/m) * t2\n",
        "u2 "
      ],
      "metadata": {
        "colab": {
          "base_uri": "https://localhost:8080/"
        },
        "id": "XJtIn7zUSi2L",
        "outputId": "764bfe26-ed10-40f9-ad51-5497f5e51e1a"
      },
      "execution_count": 32,
      "outputs": [
        {
          "output_type": "execute_result",
          "data": {
            "text/plain": [
              "array([-1.23168186e-16,  5.54700196e-01, -1.23168186e-16,  8.32050294e-01])"
            ]
          },
          "metadata": {},
          "execution_count": 32
        }
      ]
    },
    {
      "cell_type": "code",
      "source": [
        "#Essentially: [0, 0.55, 0, 0.83]\n",
        "#Should be: [0, 2/sqrt(13), 0, 3/sqrt(13)]\n",
        "#check:\n",
        "print(2/np.sqrt(13))\n",
        "print(3/np.sqrt(13))"
      ],
      "metadata": {
        "colab": {
          "base_uri": "https://localhost:8080/"
        },
        "id": "fMt-MQgITX75",
        "outputId": "d2e4b4a6-01b8-448c-9f14-0ede322b8d5e"
      },
      "execution_count": 33,
      "outputs": [
        {
          "output_type": "stream",
          "name": "stdout",
          "text": [
            "0.5547001962252291\n",
            "0.8320502943378437\n"
          ]
        }
      ]
    },
    {
      "cell_type": "code",
      "source": [
        "print(\"the size of u2 = \", np.sqrt(u2.dot(u2)))\n",
        "print(\"u2 dotted with u1= \", u2.dot(u1))"
      ],
      "metadata": {
        "colab": {
          "base_uri": "https://localhost:8080/"
        },
        "id": "gYwgsFbEVfR6",
        "outputId": "fd1af149-22d7-4e9a-d62b-cc0f84e97e59"
      },
      "execution_count": 48,
      "outputs": [
        {
          "output_type": "stream",
          "name": "stdout",
          "text": [
            "the size of u2 =  1.0\n",
            "u2 dotted with u1=  -1.741861189847285e-16\n"
          ]
        }
      ]
    },
    {
      "cell_type": "markdown",
      "source": [
        "##Process $r_3$"
      ],
      "metadata": {
        "id": "Nc12A6OWTwZn"
      }
    },
    {
      "cell_type": "code",
      "source": [
        "#Choose the vector and subtract off nice orthogonal pieces:\n",
        "t3 = r3 - (r3.dot(u1)) * u1 - (r3.dot(u2)) * u2\n",
        "\n",
        "\n",
        "#Find the size of t2:\n",
        "m = np.sqrt(t3.dot(t3))\n",
        "m\n",
        "\n",
        "#Create the nice orthonormal vector u3:\n",
        "u3 = (1/m) * t3\n",
        "u3"
      ],
      "metadata": {
        "colab": {
          "base_uri": "https://localhost:8080/"
        },
        "id": "2Lb3-N4kTy9z",
        "outputId": "08a6d572-d4d6-4052-fe6d-e20746faaadd"
      },
      "execution_count": 41,
      "outputs": [
        {
          "output_type": "execute_result",
          "data": {
            "text/plain": [
              "array([-7.07106781e-01, -3.14018492e-16,  7.07106781e-01, -6.28036983e-16])"
            ]
          },
          "metadata": {},
          "execution_count": 41
        }
      ]
    },
    {
      "cell_type": "code",
      "source": [
        "print(\"the size of u3 = \", np.sqrt(u3.dot(u3)))\n",
        "print(\"u3 dotted with u1 = \", u3.dot(u1))\n",
        "print(\"u3 dotted with u2 = \", u3.dot(u2))"
      ],
      "metadata": {
        "colab": {
          "base_uri": "https://localhost:8080/"
        },
        "id": "2c0ppbwYVhz8",
        "outputId": "e5c18f47-3f38-423c-f449-7d004cb0dd80"
      },
      "execution_count": 49,
      "outputs": [
        {
          "output_type": "stream",
          "name": "stdout",
          "text": [
            "the size of u3 =  0.9999999999999999\n",
            "u3 dotted with u1 =  0.0\n",
            "u3 dotted with u2 =  -6.967444759389139e-16\n"
          ]
        }
      ]
    },
    {
      "cell_type": "markdown",
      "source": [
        "##Process $r_4$"
      ],
      "metadata": {
        "id": "mh9tuQL5Ukhx"
      }
    },
    {
      "cell_type": "code",
      "source": [
        "#Choose the vector and subtract off nice orthogonal pieces:\n",
        "t4 = r4 - (r4.dot(u1)) * u1 - (r4.dot(u2)) * u2 - (r4.dot(u3)) * u3\n",
        "\n",
        "\n",
        "#Find the size of t2:\n",
        "m = np.sqrt(t4.dot(t4))\n",
        "m\n",
        "\n",
        "#Create the nice orthonormal vector u3:\n",
        "u4 = (1/m) * t4\n",
        "u4"
      ],
      "metadata": {
        "colab": {
          "base_uri": "https://localhost:8080/"
        },
        "id": "8DucpVkYUm6t",
        "outputId": "f0e5e8d1-10c3-4061-b6b3-95aaf7c3d02a"
      },
      "execution_count": 42,
      "outputs": [
        {
          "output_type": "execute_result",
          "data": {
            "text/plain": [
              "array([ 0.        , -0.83205029,  0.        ,  0.5547002 ])"
            ]
          },
          "metadata": {},
          "execution_count": 42
        }
      ]
    },
    {
      "cell_type": "code",
      "source": [
        "print(\"the size of u4 = \", np.sqrt(u4.dot(u4)))\n",
        "print(\"u4 dotted with u1 = \", u4.dot(u1))\n",
        "print(\"u4 dotted with u2 = \", u4.dot(u2))\n",
        "print(\"u4 dotted with u3 = \", u4.dot(u3))"
      ],
      "metadata": {
        "colab": {
          "base_uri": "https://localhost:8080/"
        },
        "id": "0YQ-9d84WEtu",
        "outputId": "f28e143f-c0bf-4c0e-9606-dee613908086"
      },
      "execution_count": 50,
      "outputs": [
        {
          "output_type": "stream",
          "name": "stdout",
          "text": [
            "the size of u4 =  1.0\n",
            "u4 dotted with u1 =  0.0\n",
            "u4 dotted with u2 =  -1.2212453270876722e-15\n",
            "u4 dotted with u3 =  -8.709305949236341e-17\n"
          ]
        }
      ]
    },
    {
      "cell_type": "code",
      "source": [
        "print(\"r1 = \")\n",
        "print()"
      ],
      "metadata": {
        "id": "Jw-4-VL7WNrG"
      },
      "execution_count": null,
      "outputs": []
    }
  ]
}